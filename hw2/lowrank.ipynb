{
 "cells": [
  {
   "cell_type": "markdown",
   "metadata": {},
   "source": [
    "读取数据，其中 train 的第 3854675 行似乎有问题，用 badline 参数略掉。读取用时 16 秒左右"
   ]
  },
  {
   "cell_type": "code",
   "execution_count": 3,
   "metadata": {},
   "outputs": [],
   "source": [
    "import pandas as pd\n",
    "train_df_raw = pd.read_csv(\"data/kddcup99_train.csv\",on_bad_lines='skip',header=None)\n",
    "test_df_raw = pd.read_csv(\"data/kddcup99_test.csv\",on_bad_lines='skip',header=None)"
   ]
  },
  {
   "cell_type": "markdown",
   "metadata": {},
   "source": [
    "train 3919781 rows × 42 columns\n",
    "\n",
    "test 978649 rows × 42 columns\n",
    "\n",
    "train[1,2,3,41] 是 categorical 数据，需要创建一个映射 map dict 保证前后一致，具体过程如下。这一部分的处理可以复用第一次作业中 bayes 相关的部分。\n",
    "\n",
    "初步处理之后我们知道第 41 列是 attack 分类结果，在 attach types 文件中分类结果被归类到更少的 attack 类型。直觉上我们先做这一步归类，可能能简化过程，得到更好的效果。\n",
    "\n",
    "训练中得知 test 集中还有一些不一样的category值，如 http_2784, aol"
   ]
  },
  {
   "cell_type": "code",
   "execution_count": 4,
   "metadata": {},
   "outputs": [],
   "source": [
    "train_df = train_df_raw.copy()\n",
    "test_df = test_df_raw.copy()"
   ]
  },
  {
   "cell_type": "code",
   "execution_count": 5,
   "metadata": {},
   "outputs": [],
   "source": [
    "attack_types = pd.read_table(\"data/trainning_attach_types\", header=None,delim_whitespace=True)\n",
    "\n",
    "attack_dict = {attack_types[0][i]+'.':attack_types[1][i] for i in range(len(attack_types))}\n",
    "# attack_dict\n",
    "\n",
    "train_df[41] = train_df[41].replace(attack_dict)\n",
    "test_df[41] = test_df[41].replace(attack_dict)\n",
    "# train_df[41].describe()"
   ]
  },
  {
   "cell_type": "code",
   "execution_count": 6,
   "metadata": {},
   "outputs": [
    {
     "data": {
      "text/plain": [
       "{1: {'tcp': 0, 'udp': 1, 'icmp': 2},\n",
       " 2: {'http': 0,\n",
       "  'smtp': 1,\n",
       "  'domain_u': 2,\n",
       "  'auth': 3,\n",
       "  'finger': 4,\n",
       "  'telnet': 5,\n",
       "  'eco_i': 6,\n",
       "  'ftp': 7,\n",
       "  'ntp_u': 8,\n",
       "  'ecr_i': 9,\n",
       "  'other': 10,\n",
       "  'urp_i': 11,\n",
       "  'private': 12,\n",
       "  'ftp_data': 13,\n",
       "  'pop_3': 14,\n",
       "  'netstat': 15,\n",
       "  'daytime': 16,\n",
       "  'ssh': 17,\n",
       "  'echo': 18,\n",
       "  'name': 19,\n",
       "  'whois': 20,\n",
       "  'domain': 21,\n",
       "  'mtp': 22,\n",
       "  'remote_job': 23,\n",
       "  'rje': 24,\n",
       "  'ctf': 25,\n",
       "  'supdup': 26,\n",
       "  'link': 27,\n",
       "  'systat': 28,\n",
       "  'discard': 29,\n",
       "  'time': 30,\n",
       "  'gopher': 31,\n",
       "  'X11': 32,\n",
       "  'shell': 33,\n",
       "  'login': 34,\n",
       "  'imap4': 35,\n",
       "  'nntp': 36,\n",
       "  'uucp': 37,\n",
       "  'IRC': 38,\n",
       "  'netbios_dgm': 39,\n",
       "  'sunrpc': 40,\n",
       "  'courier': 41,\n",
       "  'exec': 42,\n",
       "  'bgp': 43,\n",
       "  'csnet_ns': 44,\n",
       "  'http_443': 45,\n",
       "  'klogin': 46,\n",
       "  'printer': 47,\n",
       "  'netbios_ssn': 48,\n",
       "  'nnsp': 49,\n",
       "  'efs': 50,\n",
       "  'hostnames': 51,\n",
       "  'uucp_path': 52,\n",
       "  'sql_net': 53,\n",
       "  'vmnet': 54,\n",
       "  'iso_tsap': 55,\n",
       "  'netbios_ns': 56,\n",
       "  'kshell': 57,\n",
       "  'pop_2': 58,\n",
       "  'Z39_50': 59,\n",
       "  'ldap': 60,\n",
       "  'urh_i': 61,\n",
       "  'pm_dump': 62,\n",
       "  'harvest': 63,\n",
       "  'tftp_u': 64,\n",
       "  'http_8001': 65,\n",
       "  'tim_i': 66,\n",
       "  'red_i': 67,\n",
       "  'http_2784': 68,\n",
       "  'aol': 69},\n",
       " 3: {'SF': 0,\n",
       "  'S2': 1,\n",
       "  'S1': 2,\n",
       "  'S3': 3,\n",
       "  'OTH': 4,\n",
       "  'REJ': 5,\n",
       "  'S0': 6,\n",
       "  'RSTO': 7,\n",
       "  'RSTR': 8,\n",
       "  'RSTOS0': 9,\n",
       "  'SH': 10},\n",
       " 41: {'normal.': 0, 'u2r': 1, 'dos': 2, 'r2l': 3, 'probe': 4}}"
      ]
     },
     "execution_count": 6,
     "metadata": {},
     "output_type": "execute_result"
    }
   ],
   "source": [
    "map_dict = {}\n",
    "\n",
    "for column in train_df.columns:\n",
    "    if pd.api.types.is_object_dtype(train_df[column]):\n",
    "        factorized_column, map = train_df[column].factorize()\n",
    "        train_df[column] = factorized_column\n",
    "        map_dict[column] = {map[i]:i for i in range(len(map))}\n",
    "\n",
    "        _, map_t = test_df[column].factorize()\n",
    "        # print([i for i in map_t if i not in map])\n",
    "\n",
    "map_dict[2]['http_2784']=68\n",
    "map_dict[2]['aol']=69\n",
    "map_dict"
   ]
  },
  {
   "cell_type": "code",
   "execution_count": 7,
   "metadata": {},
   "outputs": [
    {
     "data": {
      "text/html": [
       "<div>\n",
       "<style scoped>\n",
       "    .dataframe tbody tr th:only-of-type {\n",
       "        vertical-align: middle;\n",
       "    }\n",
       "\n",
       "    .dataframe tbody tr th {\n",
       "        vertical-align: top;\n",
       "    }\n",
       "\n",
       "    .dataframe thead th {\n",
       "        text-align: right;\n",
       "    }\n",
       "</style>\n",
       "<table border=\"1\" class=\"dataframe\">\n",
       "  <thead>\n",
       "    <tr style=\"text-align: right;\">\n",
       "      <th></th>\n",
       "      <th>0</th>\n",
       "      <th>1</th>\n",
       "      <th>2</th>\n",
       "      <th>3</th>\n",
       "      <th>4</th>\n",
       "      <th>5</th>\n",
       "      <th>6</th>\n",
       "      <th>7</th>\n",
       "      <th>8</th>\n",
       "      <th>9</th>\n",
       "      <th>...</th>\n",
       "      <th>32</th>\n",
       "      <th>33</th>\n",
       "      <th>34</th>\n",
       "      <th>35</th>\n",
       "      <th>36</th>\n",
       "      <th>37</th>\n",
       "      <th>38</th>\n",
       "      <th>39</th>\n",
       "      <th>40</th>\n",
       "      <th>41</th>\n",
       "    </tr>\n",
       "  </thead>\n",
       "  <tbody>\n",
       "    <tr>\n",
       "      <th>0</th>\n",
       "      <td>0</td>\n",
       "      <td>0</td>\n",
       "      <td>0</td>\n",
       "      <td>0</td>\n",
       "      <td>162</td>\n",
       "      <td>4528</td>\n",
       "      <td>0</td>\n",
       "      <td>0</td>\n",
       "      <td>0</td>\n",
       "      <td>0</td>\n",
       "      <td>...</td>\n",
       "      <td>1</td>\n",
       "      <td>1.0</td>\n",
       "      <td>0.0</td>\n",
       "      <td>1.00</td>\n",
       "      <td>0.00</td>\n",
       "      <td>0.00</td>\n",
       "      <td>0.00</td>\n",
       "      <td>0.0</td>\n",
       "      <td>0.0</td>\n",
       "      <td>0</td>\n",
       "    </tr>\n",
       "    <tr>\n",
       "      <th>1</th>\n",
       "      <td>0</td>\n",
       "      <td>0</td>\n",
       "      <td>0</td>\n",
       "      <td>0</td>\n",
       "      <td>236</td>\n",
       "      <td>1228</td>\n",
       "      <td>0</td>\n",
       "      <td>0</td>\n",
       "      <td>0</td>\n",
       "      <td>0</td>\n",
       "      <td>...</td>\n",
       "      <td>2</td>\n",
       "      <td>1.0</td>\n",
       "      <td>0.0</td>\n",
       "      <td>0.50</td>\n",
       "      <td>0.00</td>\n",
       "      <td>0.00</td>\n",
       "      <td>0.00</td>\n",
       "      <td>0.0</td>\n",
       "      <td>0.0</td>\n",
       "      <td>0</td>\n",
       "    </tr>\n",
       "    <tr>\n",
       "      <th>2</th>\n",
       "      <td>0</td>\n",
       "      <td>0</td>\n",
       "      <td>0</td>\n",
       "      <td>0</td>\n",
       "      <td>184</td>\n",
       "      <td>124</td>\n",
       "      <td>0</td>\n",
       "      <td>0</td>\n",
       "      <td>0</td>\n",
       "      <td>0</td>\n",
       "      <td>...</td>\n",
       "      <td>10</td>\n",
       "      <td>1.0</td>\n",
       "      <td>0.0</td>\n",
       "      <td>0.10</td>\n",
       "      <td>0.00</td>\n",
       "      <td>0.00</td>\n",
       "      <td>0.00</td>\n",
       "      <td>0.0</td>\n",
       "      <td>0.0</td>\n",
       "      <td>0</td>\n",
       "    </tr>\n",
       "    <tr>\n",
       "      <th>3</th>\n",
       "      <td>0</td>\n",
       "      <td>0</td>\n",
       "      <td>0</td>\n",
       "      <td>0</td>\n",
       "      <td>239</td>\n",
       "      <td>1295</td>\n",
       "      <td>0</td>\n",
       "      <td>0</td>\n",
       "      <td>0</td>\n",
       "      <td>0</td>\n",
       "      <td>...</td>\n",
       "      <td>12</td>\n",
       "      <td>1.0</td>\n",
       "      <td>0.0</td>\n",
       "      <td>0.08</td>\n",
       "      <td>0.00</td>\n",
       "      <td>0.00</td>\n",
       "      <td>0.00</td>\n",
       "      <td>0.0</td>\n",
       "      <td>0.0</td>\n",
       "      <td>0</td>\n",
       "    </tr>\n",
       "    <tr>\n",
       "      <th>4</th>\n",
       "      <td>0</td>\n",
       "      <td>0</td>\n",
       "      <td>0</td>\n",
       "      <td>0</td>\n",
       "      <td>236</td>\n",
       "      <td>1228</td>\n",
       "      <td>0</td>\n",
       "      <td>0</td>\n",
       "      <td>0</td>\n",
       "      <td>0</td>\n",
       "      <td>...</td>\n",
       "      <td>14</td>\n",
       "      <td>1.0</td>\n",
       "      <td>0.0</td>\n",
       "      <td>0.07</td>\n",
       "      <td>0.00</td>\n",
       "      <td>0.00</td>\n",
       "      <td>0.00</td>\n",
       "      <td>0.0</td>\n",
       "      <td>0.0</td>\n",
       "      <td>0</td>\n",
       "    </tr>\n",
       "    <tr>\n",
       "      <th>...</th>\n",
       "      <td>...</td>\n",
       "      <td>...</td>\n",
       "      <td>...</td>\n",
       "      <td>...</td>\n",
       "      <td>...</td>\n",
       "      <td>...</td>\n",
       "      <td>...</td>\n",
       "      <td>...</td>\n",
       "      <td>...</td>\n",
       "      <td>...</td>\n",
       "      <td>...</td>\n",
       "      <td>...</td>\n",
       "      <td>...</td>\n",
       "      <td>...</td>\n",
       "      <td>...</td>\n",
       "      <td>...</td>\n",
       "      <td>...</td>\n",
       "      <td>...</td>\n",
       "      <td>...</td>\n",
       "      <td>...</td>\n",
       "      <td>...</td>\n",
       "    </tr>\n",
       "    <tr>\n",
       "      <th>978644</th>\n",
       "      <td>0</td>\n",
       "      <td>0</td>\n",
       "      <td>0</td>\n",
       "      <td>0</td>\n",
       "      <td>284</td>\n",
       "      <td>2169</td>\n",
       "      <td>0</td>\n",
       "      <td>0</td>\n",
       "      <td>0</td>\n",
       "      <td>0</td>\n",
       "      <td>...</td>\n",
       "      <td>255</td>\n",
       "      <td>1.0</td>\n",
       "      <td>0.0</td>\n",
       "      <td>0.20</td>\n",
       "      <td>0.05</td>\n",
       "      <td>0.00</td>\n",
       "      <td>0.01</td>\n",
       "      <td>0.0</td>\n",
       "      <td>0.0</td>\n",
       "      <td>0</td>\n",
       "    </tr>\n",
       "    <tr>\n",
       "      <th>978645</th>\n",
       "      <td>0</td>\n",
       "      <td>0</td>\n",
       "      <td>0</td>\n",
       "      <td>0</td>\n",
       "      <td>0</td>\n",
       "      <td>234</td>\n",
       "      <td>0</td>\n",
       "      <td>0</td>\n",
       "      <td>0</td>\n",
       "      <td>0</td>\n",
       "      <td>...</td>\n",
       "      <td>255</td>\n",
       "      <td>1.0</td>\n",
       "      <td>0.0</td>\n",
       "      <td>0.07</td>\n",
       "      <td>0.05</td>\n",
       "      <td>0.07</td>\n",
       "      <td>0.01</td>\n",
       "      <td>0.0</td>\n",
       "      <td>0.0</td>\n",
       "      <td>0</td>\n",
       "    </tr>\n",
       "    <tr>\n",
       "      <th>978646</th>\n",
       "      <td>0</td>\n",
       "      <td>0</td>\n",
       "      <td>0</td>\n",
       "      <td>0</td>\n",
       "      <td>290</td>\n",
       "      <td>4017</td>\n",
       "      <td>0</td>\n",
       "      <td>0</td>\n",
       "      <td>0</td>\n",
       "      <td>0</td>\n",
       "      <td>...</td>\n",
       "      <td>255</td>\n",
       "      <td>1.0</td>\n",
       "      <td>0.0</td>\n",
       "      <td>0.05</td>\n",
       "      <td>0.05</td>\n",
       "      <td>0.05</td>\n",
       "      <td>0.01</td>\n",
       "      <td>0.0</td>\n",
       "      <td>0.0</td>\n",
       "      <td>0</td>\n",
       "    </tr>\n",
       "    <tr>\n",
       "      <th>978647</th>\n",
       "      <td>0</td>\n",
       "      <td>0</td>\n",
       "      <td>0</td>\n",
       "      <td>0</td>\n",
       "      <td>291</td>\n",
       "      <td>1862</td>\n",
       "      <td>0</td>\n",
       "      <td>0</td>\n",
       "      <td>0</td>\n",
       "      <td>0</td>\n",
       "      <td>...</td>\n",
       "      <td>255</td>\n",
       "      <td>1.0</td>\n",
       "      <td>0.0</td>\n",
       "      <td>0.03</td>\n",
       "      <td>0.05</td>\n",
       "      <td>0.03</td>\n",
       "      <td>0.01</td>\n",
       "      <td>0.0</td>\n",
       "      <td>0.0</td>\n",
       "      <td>0</td>\n",
       "    </tr>\n",
       "    <tr>\n",
       "      <th>978648</th>\n",
       "      <td>0</td>\n",
       "      <td>0</td>\n",
       "      <td>0</td>\n",
       "      <td>0</td>\n",
       "      <td>219</td>\n",
       "      <td>1234</td>\n",
       "      <td>0</td>\n",
       "      <td>0</td>\n",
       "      <td>0</td>\n",
       "      <td>0</td>\n",
       "      <td>...</td>\n",
       "      <td>255</td>\n",
       "      <td>1.0</td>\n",
       "      <td>0.0</td>\n",
       "      <td>0.17</td>\n",
       "      <td>0.05</td>\n",
       "      <td>0.00</td>\n",
       "      <td>0.01</td>\n",
       "      <td>0.0</td>\n",
       "      <td>0.0</td>\n",
       "      <td>0</td>\n",
       "    </tr>\n",
       "  </tbody>\n",
       "</table>\n",
       "<p>978649 rows × 42 columns</p>\n",
       "</div>"
      ],
      "text/plain": [
       "        0   1   2   3    4     5   6   7   8   9   ...   32   33   34    35  \\\n",
       "0        0   0   0   0  162  4528   0   0   0   0  ...    1  1.0  0.0  1.00   \n",
       "1        0   0   0   0  236  1228   0   0   0   0  ...    2  1.0  0.0  0.50   \n",
       "2        0   0   0   0  184   124   0   0   0   0  ...   10  1.0  0.0  0.10   \n",
       "3        0   0   0   0  239  1295   0   0   0   0  ...   12  1.0  0.0  0.08   \n",
       "4        0   0   0   0  236  1228   0   0   0   0  ...   14  1.0  0.0  0.07   \n",
       "...     ..  ..  ..  ..  ...   ...  ..  ..  ..  ..  ...  ...  ...  ...   ...   \n",
       "978644   0   0   0   0  284  2169   0   0   0   0  ...  255  1.0  0.0  0.20   \n",
       "978645   0   0   0   0    0   234   0   0   0   0  ...  255  1.0  0.0  0.07   \n",
       "978646   0   0   0   0  290  4017   0   0   0   0  ...  255  1.0  0.0  0.05   \n",
       "978647   0   0   0   0  291  1862   0   0   0   0  ...  255  1.0  0.0  0.03   \n",
       "978648   0   0   0   0  219  1234   0   0   0   0  ...  255  1.0  0.0  0.17   \n",
       "\n",
       "          36    37    38   39   40  41  \n",
       "0       0.00  0.00  0.00  0.0  0.0   0  \n",
       "1       0.00  0.00  0.00  0.0  0.0   0  \n",
       "2       0.00  0.00  0.00  0.0  0.0   0  \n",
       "3       0.00  0.00  0.00  0.0  0.0   0  \n",
       "4       0.00  0.00  0.00  0.0  0.0   0  \n",
       "...      ...   ...   ...  ...  ...  ..  \n",
       "978644  0.05  0.00  0.01  0.0  0.0   0  \n",
       "978645  0.05  0.07  0.01  0.0  0.0   0  \n",
       "978646  0.05  0.05  0.01  0.0  0.0   0  \n",
       "978647  0.05  0.03  0.01  0.0  0.0   0  \n",
       "978648  0.05  0.00  0.01  0.0  0.0   0  \n",
       "\n",
       "[978649 rows x 42 columns]"
      ]
     },
     "execution_count": 7,
     "metadata": {},
     "output_type": "execute_result"
    }
   ],
   "source": [
    "for column in test_df.columns:\n",
    "    # print(column)\n",
    "    if column in map_dict.keys():\n",
    "        test_df[column] = test_df[column].replace(map_dict[column])\n",
    "\n",
    "test_df"
   ]
  },
  {
   "cell_type": "code",
   "execution_count": 8,
   "metadata": {},
   "outputs": [],
   "source": [
    "# train_data = train_df.to_numpy()\n",
    "# test_data = test_df.to_numpy()"
   ]
  },
  {
   "cell_type": "code",
   "execution_count": 9,
   "metadata": {},
   "outputs": [],
   "source": [
    "train_features_raw, train_labels = train_df.iloc[:,:-1], train_df.iloc[:,-1]\n",
    "test_features_raw, test_labels = test_df.iloc[:,:-1], test_df.iloc[:,-1]"
   ]
  },
  {
   "cell_type": "markdown",
   "metadata": {},
   "source": [
    "以上我们完成数据处理，接下来探索 PCA"
   ]
  },
  {
   "cell_type": "code",
   "execution_count": 10,
   "metadata": {},
   "outputs": [],
   "source": [
    "from sklearn.naive_bayes import GaussianNB\n",
    "from sklearn.metrics import precision_recall_fscore_support, accuracy_score\n",
    "from sklearn.decomposition import IncrementalPCA"
   ]
  },
  {
   "cell_type": "markdown",
   "metadata": {},
   "source": [
    "取 rank 为 5 完成下列代码，训练用时 30 s 左右"
   ]
  },
  {
   "cell_type": "code",
   "execution_count": 11,
   "metadata": {},
   "outputs": [
    {
     "data": {
      "text/plain": [
       "array([[-1.52995830e+03,  4.38746197e+04, -2.24983281e+01,\n",
       "        -4.91368694e+02,  6.31303692e+01],\n",
       "       [-1.54448362e+03,  8.30618361e+02, -2.16478604e+01,\n",
       "        -4.89084223e+02,  6.35420713e+01],\n",
       "       [-1.53965183e+03, -7.15385732e+02, -2.17055279e+01,\n",
       "        -4.87413293e+02,  6.35343838e+01],\n",
       "       ...,\n",
       "       [-1.55984079e+03, -9.65370614e+02, -2.77390848e+01,\n",
       "        -4.11113023e+02,  2.47984446e+02],\n",
       "       [-1.55829130e+03,  2.40862918e+03, -2.78892262e+01,\n",
       "        -4.09655786e+02,  2.47265592e+02],\n",
       "       [-1.55918943e+03, -1.03370837e+02, -2.65113209e+01,\n",
       "        -4.36494577e+02,  2.40646698e+02]])"
      ]
     },
     "execution_count": 11,
     "metadata": {},
     "output_type": "execute_result"
    }
   ],
   "source": [
    "rank = 5\n",
    "pca = IncrementalPCA(n_components=rank,)\n",
    "train_features = pca.fit_transform(train_features_raw)\n",
    "test_features = pca.transform(test_features_raw)\n",
    "train_features"
   ]
  },
  {
   "cell_type": "code",
   "execution_count": 12,
   "metadata": {},
   "outputs": [
    {
     "data": {
      "text/plain": [
       "array([0, 0, 2, ..., 0, 0, 0], dtype=int64)"
      ]
     },
     "execution_count": 12,
     "metadata": {},
     "output_type": "execute_result"
    }
   ],
   "source": [
    "model = GaussianNB()\n",
    "model.fit(train_features, train_labels)\n",
    "\n",
    "y_pred = model.predict(test_features)\n",
    "y_pred"
   ]
  },
  {
   "cell_type": "code",
   "execution_count": 13,
   "metadata": {},
   "outputs": [
    {
     "name": "stdout",
     "output_type": "stream",
     "text": [
      "precision: [0.99438839 0.00382653 0.87648932 0.00568182 0.08587871] \n",
      "recall: [0.46430131 0.21428571 0.99943409 0.0045045  0.02414437] \n",
      "F1 score: [0.63302817 0.0075188  0.93393291 0.00502513 0.03769186] \n",
      "accuracy: 0.8847574564527221\n"
     ]
    }
   ],
   "source": [
    "precision, recall, F1_score, _ = precision_recall_fscore_support(test_labels, y_pred, average=None)\n",
    "acc = accuracy_score(test_labels, y_pred)\n",
    "print(\"precision: {} \\nrecall: {} \\nF1 score: {} \\naccuracy: {}\".format(precision, recall, F1_score, acc))"
   ]
  },
  {
   "cell_type": "markdown",
   "metadata": {},
   "source": [
    "可以看到降到 5 维时，对结果中的一类预测效果较好。"
   ]
  },
  {
   "cell_type": "markdown",
   "metadata": {},
   "source": [
    "接下来测试 AE 的效果。本来也使用 sklearn 的 nn 库来做，但版本太旧，改用 pytorch 的做一个。batch 设为 1000，每个 epoch 要训练 1min。"
   ]
  },
  {
   "cell_type": "code",
   "execution_count": 78,
   "metadata": {},
   "outputs": [],
   "source": [
    "import torch.nn as nn\n",
    "import torch.optim as optim\n",
    "import torch\n",
    "import numpy as np\n",
    "from torch.utils.data import TensorDataset, Dataset, DataLoader\n",
    "\n",
    "'''\n",
    "borrowed from https://blog.csdn.net/fengdu78/article/details/104337519\n",
    "'''\n",
    "class AE(nn.Module):\n",
    "    def __init__(self, n_components = 5, inner_size = 32):\n",
    "        super(AE, self).__init__()\n",
    "        self.n_components = n_components\n",
    "        self.inner_size = inner_size\n",
    "        self.encoder = nn.Sequential(\n",
    "            # [b, 41] => [b, rank]\n",
    "            nn.Linear(41, inner_size),\n",
    "            nn.ReLU(),\n",
    "            nn.Linear(inner_size, self.n_components),\n",
    "            nn.ReLU(),\n",
    "        )\n",
    "        self.decoder = nn.Sequential(\n",
    "            # [b, rank] => [b, 41]\n",
    "            nn.Linear(self.n_components, inner_size),\n",
    "            nn.ReLU(),\n",
    "            nn.Linear(inner_size, 41),\n",
    "            nn.ReLU(),\n",
    "        )\n",
    " \n",
    " \n",
    "    def forward(self, x):\n",
    "        batchsize = x.size(0)\n",
    "        # flatten\n",
    "        x = x.view(batchsize, -1)\n",
    "        # encoder\n",
    "        x = self.encoder(x)\n",
    "        # decoder\n",
    "        x = self.decoder(x)\n",
    "        # reshape\n",
    "        x = x.view(batchsize, -1)\n",
    " \n",
    "        return x\n",
    "\n",
    "    def encode(self, x):\n",
    "        tensor_x=torch.from_numpy(x.astype(np.float32))\n",
    "        batchsize = tensor_x.size(0)\n",
    "        # return self.encoder(x.view(batchsize,-1)).view(batchsize,-1)\n",
    "        return self.encoder(tensor_x.view(batchsize,-1)).view(batchsize,-1)\n",
    "\n",
    "def fit(x, y, n_components = 5):\n",
    "    epochs = 5\n",
    "    lr = 1e-3\n",
    "    model = AE(n_components)\n",
    "    criterion = nn.MSELoss()\n",
    "    optimizer = optim.Adam(model.parameters(), lr=lr)\n",
    "    print(model)\n",
    "\n",
    "    tensor_x=torch.from_numpy(x.astype(np.float32))\n",
    "    tensor_y=torch.from_numpy(y.astype(np.float32))\n",
    "    my_dataset=TensorDataset(tensor_x,tensor_y)\n",
    "    my_dataset_loader=DataLoader(my_dataset,batch_size=2000,shuffle=False)\n",
    "\n",
    "    for epoch in range(epochs):\n",
    "        print(epoch)\n",
    "        total_loss = 0\n",
    "        for batchidx, (x, y) in enumerate(my_dataset_loader):\n",
    "            pred = model(x)\n",
    "            loss = criterion(pred,x) / x.size(0)\n",
    "            optimizer.zero_grad()\n",
    "            loss.backward()\n",
    "            optimizer.step()\n",
    "            total_loss += loss\n",
    "        # if epoch % 100==0:\n",
    "\n",
    "        print(total_loss.data.numpy())\n",
    "    \n",
    "    return model"
   ]
  },
  {
   "cell_type": "code",
   "execution_count": null,
   "metadata": {},
   "outputs": [],
   "source": [
    "ae = fit(train_features_raw.to_numpy(), train_labels.to_numpy())\n",
    "train_features = ae.encode(train_features_raw.to_numpy())\n",
    "test_features = ae.encode(test_features_raw.to_numpy())\n",
    "train_features"
   ]
  },
  {
   "cell_type": "code",
   "execution_count": 30,
   "metadata": {},
   "outputs": [
    {
     "name": "stdout",
     "output_type": "stream",
     "text": [
      "precision: [0.99276431 1.         0.88439395 0.00408163 0.02222222] \n",
      "recall: [5.18806225e-01 0.00000000e+00 9.99434085e-01 4.50450450e-03\n",
      " 1.24455507e-04] \n",
      "F1 score: [6.81479682e-01 0.00000000e+00 9.38401429e-01 4.28265525e-03\n",
      " 2.47524752e-04] \n",
      "accuracy: 0.8953976349028099\n"
     ]
    }
   ],
   "source": [
    "train_labels.to_numpy()\n",
    "model = GaussianNB()\n",
    "model.fit(train_features.detach().numpy(), train_labels.to_numpy())\n",
    "\n",
    "y_pred = model.predict(test_features.detach().numpy())\n",
    "precision, recall, F1_score, _ = precision_recall_fscore_support(test_labels, y_pred, average=None, zero_division=0)\n",
    "acc = accuracy_score(test_labels, y_pred)\n",
    "print(\"precision: {} \\nrecall: {} \\nF1 score: {} \\naccuracy: {}\".format(precision, recall, F1_score, acc))"
   ]
  },
  {
   "attachments": {},
   "cell_type": "markdown",
   "metadata": {},
   "source": [
    "可以看到和 PCA 相似，有几个标签是难以预测出的。效果与 PCA 相近，0.88 到 0.89，AE 可以进一步优化，这和网络的设置有关。"
   ]
  },
  {
   "attachments": {},
   "cell_type": "markdown",
   "metadata": {},
   "source": [
    "最后做一组二维的结果对比。\n",
    "\n",
    "一般来说降到更低维度，acc 会下降。可见两种方法的 acc 都下降了一点。\n",
    "\n",
    "pca:\n",
    "\n",
    "precision: [0.99355447 0.         0.86256805 0.         0.01010101] \n",
    "\n",
    "recall: [4.06266858e-01 0.00000000e+00 9.99434085e-01 0.00000000e+00\n",
    " 1.24455507e-04] \n",
    "\n",
    "F1 score: [5.76713962e-01 0.00000000e+00 9.25970913e-01 0.00000000e+00\n",
    " 2.45881485e-04] \n",
    " \n",
    "accuracy: 0.8730137158470503"
   ]
  },
  {
   "cell_type": "code",
   "execution_count": 34,
   "metadata": {},
   "outputs": [
    {
     "name": "stdout",
     "output_type": "stream",
     "text": [
      "precision: [0.99355447 0.         0.86256805 0.         0.01010101] \n",
      "recall: [4.06266858e-01 0.00000000e+00 9.99434085e-01 0.00000000e+00\n",
      " 1.24455507e-04] \n",
      "F1 score: [5.76713962e-01 0.00000000e+00 9.25970913e-01 0.00000000e+00\n",
      " 2.45881485e-04] \n",
      "accuracy: 0.8730137158470503\n"
     ]
    }
   ],
   "source": [
    "rank = 2\n",
    "pca = IncrementalPCA(n_components=rank,)\n",
    "train_features = pca.fit_transform(train_features_raw)\n",
    "test_features = pca.transform(test_features_raw)\n",
    "# train_features\n",
    "model = GaussianNB()\n",
    "model.fit(train_features, train_labels)\n",
    "\n",
    "y_pred = model.predict(test_features)\n",
    "# y_pred\n",
    "precision, recall, F1_score, _ = precision_recall_fscore_support(test_labels, y_pred, average=None, zero_division=0)\n",
    "acc = accuracy_score(test_labels, y_pred)\n",
    "print(\"precision: {} \\nrecall: {} \\nF1 score: {} \\naccuracy: {}\".format(precision, recall, F1_score, acc))\n",
    "\n",
    "pca_2_x = test_features\n",
    "pca_2_y_pred = y_pred\n",
    "pca_2_y = test_labels"
   ]
  },
  {
   "cell_type": "code",
   "execution_count": 59,
   "metadata": {},
   "outputs": [
    {
     "data": {
      "text/plain": [
       "<matplotlib.collections.PathCollection at 0x263efaa3100>"
      ]
     },
     "execution_count": 59,
     "metadata": {},
     "output_type": "execute_result"
    },
    {
     "data": {
      "image/png": "[encoded data removed]",
      "text/plain": [
       "<Figure size 432x288 with 1 Axes>"
      ]
     },
     "metadata": {
      "needs_background": "light"
     },
     "output_type": "display_data"
    }
   ],
   "source": [
    "import matplotlib.pyplot as plt\n",
    "\n",
    "# plt.plot(pca_2_x)\n",
    "\n",
    "# pca_2_y[pca_2_y ==1]\n",
    "# for i in pca_2_y:\n",
    "#     if pca_2_y_pred[i]:\n",
    "#         plt.scatter(pca_2_x[i,0],pca_2_x[i,1], color='b')\n",
    "#     else:\n",
    "#         plt.scatter(pca_2_x[i,0],pca_2_x[i,1], color='r')\n",
    "\n",
    "# np.concatenate((pca_2_x,pca_2_y_pred),axis=1)\n",
    "\n",
    "# pca_2_y_pred.shape\n",
    "\n",
    "pca_i = np.column_stack((pca_2_x,pca_2_y_pred))\n",
    "\n",
    "plt.scatter(pca_i[:,0],pca_i[:,1], c=pca_i[:,2])\n"
   ]
  },
  {
   "cell_type": "code",
   "execution_count": 76,
   "metadata": {},
   "outputs": [
    {
     "name": "stdout",
     "output_type": "stream",
     "text": [
      "AE(\n",
      "  (encoder): Sequential(\n",
      "    (0): Linear(in_features=41, out_features=32, bias=True)\n",
      "    (1): ReLU()\n",
      "    (2): Linear(in_features=32, out_features=2, bias=True)\n",
      "    (3): ReLU()\n",
      "  )\n",
      "  (decoder): Sequential(\n",
      "    (0): Linear(in_features=2, out_features=32, bias=True)\n",
      "    (1): ReLU()\n",
      "    (2): Linear(in_features=32, out_features=41, bias=True)\n",
      "    (3): ReLU()\n",
      "  )\n",
      ")\n",
      "0\n",
      "18429899000.0\n",
      "1\n",
      "12430286000.0\n",
      "2\n",
      "12453494000.0\n",
      "3\n",
      "12434855000.0\n",
      "4\n",
      "13029247000.0\n",
      "5\n",
      "15106906000.0\n",
      "6\n",
      "16970391000.0\n",
      "7\n",
      "14696108000.0\n",
      "8\n",
      "12438204000.0\n",
      "9\n",
      "17480210000.0\n"
     ]
    }
   ],
   "source": [
    "ae = fit(train_features_raw.to_numpy(), train_labels.to_numpy(), n_components=2)\n",
    "train_features = ae.encode(train_features_raw.to_numpy())\n",
    "test_features = ae.encode(test_features_raw.to_numpy())\n",
    "# train_features"
   ]
  },
  {
   "cell_type": "code",
   "execution_count": 77,
   "metadata": {},
   "outputs": [
    {
     "name": "stdout",
     "output_type": "stream",
     "text": [
      "precision: [0.881811   0.         0.79536954 0.         0.01136364] \n",
      "recall: [1.72109965e-02 0.00000000e+00 9.99434085e-01 0.00000000e+00\n",
      " 1.24455507e-04] \n",
      "F1 score: [3.37630139e-02 0.00000000e+00 8.85801004e-01 0.00000000e+00\n",
      " 2.46214453e-04] \n",
      "accuracy: 0.7956345942212172\n"
     ]
    },
    {
     "data": {
      "text/plain": [
       "<matplotlib.collections.PathCollection at 0x263a2d51a90>"
      ]
     },
     "execution_count": 77,
     "metadata": {},
     "output_type": "execute_result"
    },
    {
     "data": {
      "image/png": "[encoded data removed]",
      "text/plain": [
       "<Figure size 432x288 with 1 Axes>"
      ]
     },
     "metadata": {
      "needs_background": "light"
     },
     "output_type": "display_data"
    }
   ],
   "source": [
    "model = GaussianNB()\n",
    "model.fit(train_features.detach().numpy(), train_labels.to_numpy())\n",
    "y_pred = model.predict(test_features.detach().numpy())\n",
    "# y_pred\n",
    "precision, recall, F1_score, _ = precision_recall_fscore_support(test_labels, y_pred, average=None, zero_division=0)\n",
    "acc = accuracy_score(test_labels, y_pred)\n",
    "print(\"precision: {} \\nrecall: {} \\nF1 score: {} \\naccuracy: {}\".format(precision, recall, F1_score, acc))\n",
    "\n",
    "ae_i = np.column_stack((test_features.detach().numpy(), y_pred))\n",
    "\n",
    "plt.scatter(ae_i[:,0],ae_i[:,1], c=ae_i[:,2])"
   ]
  }
 ],
 "metadata": {
  "kernelspec": {
   "display_name": "Python 3.9.13 ('base')",
   "language": "python",
   "name": "python3"
  },
  "language_info": {
   "codemirror_mode": {
    "name": "ipython",
    "version": 3
   },
   "file_extension": ".py",
   "mimetype": "text/x-python",
   "name": "python",
   "nbconvert_exporter": "python",
   "pygments_lexer": "ipython3",
   "version": "3.9.13"
  },
  "orig_nbformat": 4,
  "vscode": {
   "interpreter": {
    "hash": "4c980b9862ab41f9934730dade093e3b6a0fcd7b9370dcc413140867050c66a4"
   }
  }
 },
 "nbformat": 4,
 "nbformat_minor": 2
}
